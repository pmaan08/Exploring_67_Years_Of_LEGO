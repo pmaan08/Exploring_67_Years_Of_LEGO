#import pandas 
import pandas as pd
import matplotlib.pyplot as plt

#importing the colors dataset
colors = pd.read_csv('colors.csv')
colors.head()

#plotting the colors dataset
plt.plot(colors)
plt.show()

