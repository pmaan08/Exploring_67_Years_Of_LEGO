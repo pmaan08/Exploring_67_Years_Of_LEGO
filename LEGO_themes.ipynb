import pandas as pd
import matplotlib.pyplot as plt

#importing theme data
sets = pd.read_csv('themes.csv')

#printing few data
sets.head()

#themes ranging per year
themes = sets[['year','theme_id']]

themes_year = themes.groupby('year', as_index = False )

#to show all unique elemnts of the seies of themes per year
themes_per_year = themes_year.agg({'theme_id' : pd.Series.nunique})

#print  intial values of the extracte data
themes_per_year.head()

#plotting the extracted data
plt.plot(themes_per_year)
plt.show()
