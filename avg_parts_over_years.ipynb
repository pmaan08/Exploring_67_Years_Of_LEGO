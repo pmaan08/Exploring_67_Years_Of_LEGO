#Avergae number of parts in Lego sets that have been varied over the years
import pandas as pd
import matplot.pyplot as plt

sets = pd.read_csv('sets.csv')

parts_by_year  = sets.groupby('year').mean()

plt.plot(parts_by_year)
plt.show()
