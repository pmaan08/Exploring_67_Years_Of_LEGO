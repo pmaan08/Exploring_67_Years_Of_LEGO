import reading_colors

#number of distinct colors
num_colors = colors.rgb.size
print('Number of distinct colors: ', num_colors)


