import reading_colors

# Number of transparent colors in the dataset
colors_summary = colors.groupby('is_trans').count()
 print(colors_summary)
